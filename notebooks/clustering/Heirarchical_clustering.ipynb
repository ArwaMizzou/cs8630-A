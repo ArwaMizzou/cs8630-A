{
 "cells": [
  {
   "cell_type": "markdown",
   "metadata": {},
   "source": [
    "# Lab: Hierarchical Clustering"
   ]
  },
  {
   "cell_type": "markdown",
   "metadata": {},
   "source": [
    "We have seen how the Kmeans algorithm formed clusters which expects pre-determined number of clusters to be known. In this notebook we will move on to hierarchical clustering which has the benefit that one doesn't need to already know the number k of clusters in the data. We will use the iris data to illustrate the concept in this notebook."
   ]
  },
  {
   "cell_type": "markdown",
   "metadata": {},
   "source": [
    "Read the iris data from `./` folder"
   ]
  },
  {
   "cell_type": "code",
   "execution_count": 1,
   "metadata": {},
   "outputs": [
    {
     "data": {
      "text/html": [
       "<div>\n",
       "<style>\n",
       "    .dataframe thead tr:only-child th {\n",
       "        text-align: right;\n",
       "    }\n",
       "\n",
       "    .dataframe thead th {\n",
       "        text-align: left;\n",
       "    }\n",
       "\n",
       "    .dataframe tbody tr th {\n",
       "        vertical-align: top;\n",
       "    }\n",
       "</style>\n",
       "<table border=\"1\" class=\"dataframe\">\n",
       "  <thead>\n",
       "    <tr style=\"text-align: right;\">\n",
       "      <th></th>\n",
       "      <th>Unnamed: 0</th>\n",
       "      <th>Sepal.Length</th>\n",
       "      <th>Sepal.Width</th>\n",
       "      <th>Petal.Length</th>\n",
       "      <th>Petal.Width</th>\n",
       "      <th>Species</th>\n",
       "    </tr>\n",
       "  </thead>\n",
       "  <tbody>\n",
       "    <tr>\n",
       "      <th>0</th>\n",
       "      <td>1</td>\n",
       "      <td>5.1</td>\n",
       "      <td>3.5</td>\n",
       "      <td>1.4</td>\n",
       "      <td>0.2</td>\n",
       "      <td>setosa</td>\n",
       "    </tr>\n",
       "  </tbody>\n",
       "</table>\n",
       "</div>"
      ],
      "text/plain": [
       "   Unnamed: 0  Sepal.Length  Sepal.Width  Petal.Length  Petal.Width Species\n",
       "0           1           5.1          3.5           1.4          0.2  setosa"
      ]
     },
     "execution_count": 1,
     "metadata": {},
     "output_type": "execute_result"
    }
   ],
   "source": [
    "import scipy.cluster.hierarchy as hca\n",
    "import pandas as pd\n",
    "import numpy as np\n",
    "from pylab import *\n",
    "from matplotlib import pyplot\n",
    "%matplotlib inline\n",
    "np.set_printoptions(suppress=True)\n",
    "\n",
    "data=pd.read_csv(\"./iris.txt\")\n",
    "data.head(1)"
   ]
  },
  {
   "cell_type": "markdown",
   "metadata": {},
   "source": [
    "There is an extra column of data. Get rid of it.  "
   ]
  },
  {
   "cell_type": "code",
   "execution_count": 2,
   "metadata": {
    "collapsed": true,
    "jupyter": {
     "outputs_hidden": true
    }
   },
   "outputs": [],
   "source": [
    "# pandas dataframe.drop will return a new object with labels in requested axis removed.\n",
    "\n",
    "data = data.drop(['Unnamed: 0'], axis=1)\n",
    "\n",
    "# Below line is subsetting all numeric columns Sepal.Length, Sepal.Width, Petal.Length, Petal.Width into new dataframe\n",
    "num_data = data.iloc[:,:-1]"
   ]
  },
  {
   "cell_type": "code",
   "execution_count": 3,
   "metadata": {},
   "outputs": [
    {
     "data": {
      "image/png": "[encoded data removed]",
      "text/plain": [
       "<matplotlib.figure.Figure at 0x7f8629805c50>"
      ]
     },
     "metadata": {},
     "output_type": "display_data"
    }
   ],
   "source": [
    "# Scatter plot between Sepal.Length, Sepal.Width\n",
    "\n",
    "plt.scatter(num_data.iloc[:,0], num_data.iloc[:,1])\n",
    "plt.show()"
   ]
  },
  {
   "cell_type": "markdown",
   "metadata": {},
   "source": [
    "Next we will perform hierarchical agglomerative clustering by generating the linkage matrix.\n",
    "\n",
    "**Reference:**\n",
    "- [scipy.cluster.hierarchy.linkage](https://docs.scipy.org/doc/scipy-0.19.1/reference/generated/scipy.cluster.hierarchy.linkage.html)\n",
    "\n",
    "**`ward`** is one of the methods that can be used to calculate the distance between newly formed clusters. 'ward' causes linkage() to use the Ward variance minimization algorithm.\n",
    "\n",
    "There are some other common linkage methods like 'single', 'complete', 'average' along with different distance metrics like 'euclidean' (default), 'Manhattan', 'hamming', 'cosine'. You can try different distance measures and clustering methods to make sure that the data is not just clustered, but also to minimize the overall intra-cluster variance in euclidean space. For example, when dealing with clustering text documents, it may not look right to use a euclidean distance metric with long (binary) feature vectors (word-vectors in text clustering).\n",
    "\n",
    "Explore the linked methods and metrics to make a informed choice between different options available. "
   ]
  },
  {
   "cell_type": "code",
   "execution_count": 4,
   "metadata": {
    "collapsed": true,
    "jupyter": {
     "outputs_hidden": true
    }
   },
   "outputs": [],
   "source": [
    "# Generate the linkage matrix\n",
    "# hca is our alias for the scipy.cluster.hierarchy library\n",
    "Z = hca.linkage(data.iloc[:,:-1], 'ward')"
   ]
  },
  {
   "cell_type": "markdown",
   "metadata": {},
   "source": [
    "**`Cophenetic Correlation Coefficient`:** Check the Cophenetic Correlation Coefficient of the clustering generated using cophenet() function. This compares (correlates) the actual pairwise distances of all data samples to those implied by the hierarchical clustering. The closer the value is to 1, the better the clustering preserves the original distances."
   ]
  },
  {
   "cell_type": "code",
   "execution_count": 5,
   "metadata": {},
   "outputs": [
    {
     "data": {
      "text/plain": [
       "0.87282831533057148"
      ]
     },
     "execution_count": 5,
     "metadata": {},
     "output_type": "execute_result"
    }
   ],
   "source": [
    "from scipy.cluster.hierarchy import cophenet\n",
    "from scipy.spatial.distance import pdist\n",
    "\n",
    "c, cop_dist = cophenet(Z, pdist(num_data))\n",
    "c"
   ]
  },
  {
   "cell_type": "markdown",
   "metadata": {},
   "source": [
    "The linkage() function will use the supplied method and metric to calculate the distances of the clusters starting with all the **`n`** individual data points as singleton clusters and in each iteration will merge the two clusters which have the smallest distance according the selected method and metric. \n",
    "\n",
    "It will return an array of length n - 1 giving the information about the n - 1 cluster merges which it did to pairwise merge the n singleton clusters. Z[i] will tell which clusters were merged in the i-th iteration as shown below."
   ]
  },
  {
   "cell_type": "code",
   "execution_count": 6,
   "metadata": {},
   "outputs": [
    {
     "data": {
      "text/plain": [
       "array([ 101.,  142.,    0.,    2.])"
      ]
     },
     "execution_count": 6,
     "metadata": {},
     "output_type": "execute_result"
    }
   ],
   "source": [
    "Z[0]"
   ]
  },
  {
   "cell_type": "markdown",
   "metadata": {},
   "source": [
    "So each row of the resulting array has the format [idx1, idx2, dist, sample_count]. Rows 101 and 142 in the dataset are clustered together to form the first cluster. These two samples have 0 distance and created a cluster with a total of 2 samples."
   ]
  },
  {
   "cell_type": "code",
   "execution_count": 7,
   "metadata": {},
   "outputs": [
    {
     "data": {
      "text/plain": [
       "array([  7. ,  39. ,   0.1,   2. ])"
      ]
     },
     "execution_count": 7,
     "metadata": {},
     "output_type": "execute_result"
    }
   ],
   "source": [
    "Z[1]"
   ]
  },
  {
   "cell_type": "markdown",
   "metadata": {},
   "source": [
    "In second iteration, rows 7 and 39 in the dataset are clustered together to form a cluster. These two samples have a distance of 0.1. Have a look at the first 20 iterations."
   ]
  },
  {
   "cell_type": "code",
   "execution_count": 8,
   "metadata": {
    "scrolled": true
   },
   "outputs": [
    {
     "data": {
      "text/plain": [
       "array([[ 101.        ,  142.        ,    0.        ,    2.        ],\n",
       "       [   7.        ,   39.        ,    0.1       ,    2.        ],\n",
       "       [   0.        ,   17.        ,    0.1       ,    2.        ],\n",
       "       [   9.        ,   34.        ,    0.1       ,    2.        ],\n",
       "       [ 128.        ,  132.        ,    0.1       ,    2.        ],\n",
       "       [  10.        ,   48.        ,    0.1       ,    2.        ],\n",
       "       [   4.        ,   37.        ,    0.14142136,    2.        ],\n",
       "       [  19.        ,   21.        ,    0.14142136,    2.        ],\n",
       "       [  29.        ,   30.        ,    0.14142136,    2.        ],\n",
       "       [  57.        ,   93.        ,    0.14142136,    2.        ],\n",
       "       [  80.        ,   81.        ,    0.14142136,    2.        ],\n",
       "       [ 116.        ,  137.        ,    0.14142136,    2.        ],\n",
       "       [   8.        ,   38.        ,    0.14142136,    2.        ],\n",
       "       [   3.        ,   47.        ,    0.14142136,    2.        ],\n",
       "       [  27.        ,   28.        ,    0.14142136,    2.        ],\n",
       "       [  82.        ,   92.        ,    0.14142136,    2.        ],\n",
       "       [  95.        ,   96.        ,    0.14142136,    2.        ],\n",
       "       [ 127.        ,  138.        ,    0.14142136,    2.        ],\n",
       "       [   1.        ,   45.        ,    0.14142136,    2.        ],\n",
       "       [  63.        ,   91.        ,    0.14142136,    2.        ],\n",
       "       [  65.        ,   75.        ,    0.14142136,    2.        ],\n",
       "       [  40.        ,  152.        ,    0.17320508,    3.        ],\n",
       "       [ 123.        ,  126.        ,    0.17320508,    2.        ],\n",
       "       [  49.        ,  151.        ,    0.17320508,    3.        ],\n",
       "       [ 112.        ,  139.        ,    0.17320508,    2.        ],\n",
       "       [  94.        ,   99.        ,    0.17320508,    2.        ],\n",
       "       [  12.        ,  168.        ,    0.18257419,    3.        ],\n",
       "       [  88.        ,  166.        ,    0.18257419,    3.        ],\n",
       "       [  66.        ,   84.        ,    0.2       ,    2.        ],\n",
       "       [  23.        ,   26.        ,    0.2       ,    2.        ]])"
      ]
     },
     "execution_count": 8,
     "metadata": {},
     "output_type": "execute_result"
    }
   ],
   "source": [
    "Z[:30]"
   ]
  },
  {
   "cell_type": "markdown",
   "metadata": {},
   "source": [
    "If you can observe the sample_count column, until iteration 22 the algorithm only directly merged original samples. Also, there has been a monotonic increase in the distance.\n",
    "\n",
    "In iteration 22 the algorithm merged cluster indices 40 with 152. Remember that there are only 150 samples in the iris dataset meaning the original sample indices are 0 to 149 for 150 samples. All indices where idx >= len(num_data) actually refer to the clusters formed in Z[idx - len(num_data)].\n",
    "\n",
    "Simply put, while idx 149 corresponds to num_data[149], idx 150 corresponds to the cluster formed in Z[0], idx 151 to Z[1], 152 to Z[2] and so on...\n",
    "\n",
    "Hence, the merge iteration 22 that merged sample 40 with samples 0 and 17 which were previously merged in iteration 2 (that is 152 - 2). Again we are calling it iteration 2 using this formula Z[idx - len(num_data)].\n",
    "\n",
    "Let's check out the points coordinates to see if this makes sense:"
   ]
  },
  {
   "cell_type": "code",
   "execution_count": 9,
   "metadata": {},
   "outputs": [
    {
     "data": {
      "text/html": [
       "<div>\n",
       "<style>\n",
       "    .dataframe thead tr:only-child th {\n",
       "        text-align: right;\n",
       "    }\n",
       "\n",
       "    .dataframe thead th {\n",
       "        text-align: left;\n",
       "    }\n",
       "\n",
       "    .dataframe tbody tr th {\n",
       "        vertical-align: top;\n",
       "    }\n",
       "</style>\n",
       "<table border=\"1\" class=\"dataframe\">\n",
       "  <thead>\n",
       "    <tr style=\"text-align: right;\">\n",
       "      <th></th>\n",
       "      <th>Sepal.Length</th>\n",
       "      <th>Sepal.Width</th>\n",
       "      <th>Petal.Length</th>\n",
       "      <th>Petal.Width</th>\n",
       "    </tr>\n",
       "  </thead>\n",
       "  <tbody>\n",
       "    <tr>\n",
       "      <th>0</th>\n",
       "      <td>5.1</td>\n",
       "      <td>3.5</td>\n",
       "      <td>1.4</td>\n",
       "      <td>0.2</td>\n",
       "    </tr>\n",
       "    <tr>\n",
       "      <th>17</th>\n",
       "      <td>5.1</td>\n",
       "      <td>3.5</td>\n",
       "      <td>1.4</td>\n",
       "      <td>0.3</td>\n",
       "    </tr>\n",
       "    <tr>\n",
       "      <th>40</th>\n",
       "      <td>5.0</td>\n",
       "      <td>3.5</td>\n",
       "      <td>1.3</td>\n",
       "      <td>0.3</td>\n",
       "    </tr>\n",
       "  </tbody>\n",
       "</table>\n",
       "</div>"
      ],
      "text/plain": [
       "    Sepal.Length  Sepal.Width  Petal.Length  Petal.Width\n",
       "0            5.1          3.5           1.4          0.2\n",
       "17           5.1          3.5           1.4          0.3\n",
       "40           5.0          3.5           1.3          0.3"
      ]
     },
     "execution_count": 9,
     "metadata": {},
     "output_type": "execute_result"
    }
   ],
   "source": [
    "num_data.loc[[0, 17, 40], :]"
   ]
  },
  {
   "cell_type": "markdown",
   "metadata": {},
   "source": [
    "The points seem pretty close. Plot the points highlighted to verify them."
   ]
  },
  {
   "cell_type": "code",
   "execution_count": 10,
   "metadata": {},
   "outputs": [
    {
     "data": {
      "image/png": "[encoded data removed]",
      "text/plain": [
       "<matplotlib.figure.Figure at 0x7f85ce5e96a0>"
      ]
     },
     "metadata": {},
     "output_type": "display_data"
    }
   ],
   "source": [
    "# PLotting Sepal.Length vs Petal.Width\n",
    "idxs = [0, 17, 40]\n",
    "\n",
    "plt.figure(figsize=(10, 8))\n",
    "plt.scatter(num_data.iloc[:,0], num_data.iloc[:,3])  # plot all points\n",
    "\n",
    "# Highlight the points of interest in Red color\n",
    "plt.scatter(num_data.iloc[idxs,0], num_data.iloc[idxs,3], c='r')  # plot interesting points in red again\n",
    "plt.show()"
   ]
  },
  {
   "cell_type": "markdown",
   "metadata": {},
   "source": [
    "All 3 red dots are pretty close to each other as predicted. Lets check the results of 28th iteration. The algorithm merged indices 88 to 82 and 92. "
   ]
  },
  {
   "cell_type": "code",
   "execution_count": 11,
   "metadata": {},
   "outputs": [
    {
     "data": {
      "text/html": [
       "<div>\n",
       "<style>\n",
       "    .dataframe thead tr:only-child th {\n",
       "        text-align: right;\n",
       "    }\n",
       "\n",
       "    .dataframe thead th {\n",
       "        text-align: left;\n",
       "    }\n",
       "\n",
       "    .dataframe tbody tr th {\n",
       "        vertical-align: top;\n",
       "    }\n",
       "</style>\n",
       "<table border=\"1\" class=\"dataframe\">\n",
       "  <thead>\n",
       "    <tr style=\"text-align: right;\">\n",
       "      <th></th>\n",
       "      <th>Sepal.Length</th>\n",
       "      <th>Sepal.Width</th>\n",
       "      <th>Petal.Length</th>\n",
       "      <th>Petal.Width</th>\n",
       "    </tr>\n",
       "  </thead>\n",
       "  <tbody>\n",
       "    <tr>\n",
       "      <th>88</th>\n",
       "      <td>5.6</td>\n",
       "      <td>3.0</td>\n",
       "      <td>4.1</td>\n",
       "      <td>1.3</td>\n",
       "    </tr>\n",
       "    <tr>\n",
       "      <th>82</th>\n",
       "      <td>5.8</td>\n",
       "      <td>2.7</td>\n",
       "      <td>3.9</td>\n",
       "      <td>1.2</td>\n",
       "    </tr>\n",
       "    <tr>\n",
       "      <th>92</th>\n",
       "      <td>5.8</td>\n",
       "      <td>2.6</td>\n",
       "      <td>4.0</td>\n",
       "      <td>1.2</td>\n",
       "    </tr>\n",
       "  </tbody>\n",
       "</table>\n",
       "</div>"
      ],
      "text/plain": [
       "    Sepal.Length  Sepal.Width  Petal.Length  Petal.Width\n",
       "88           5.6          3.0           4.1          1.3\n",
       "82           5.8          2.7           3.9          1.2\n",
       "92           5.8          2.6           4.0          1.2"
      ]
     },
     "execution_count": 11,
     "metadata": {},
     "output_type": "execute_result"
    }
   ],
   "source": [
    "num_data.loc[[88, 82, 92], :]"
   ]
  },
  {
   "cell_type": "code",
   "execution_count": 12,
   "metadata": {},
   "outputs": [
    {
     "data": {
      "image/png": "[encoded data removed]",
      "text/plain": [
       "<matplotlib.figure.Figure at 0x7f85cc52ad68>"
      ]
     },
     "metadata": {},
     "output_type": "display_data"
    }
   ],
   "source": [
    "# PLotting Sepal.Length vs Petal.Width\n",
    "idxs = [88, 82, 92]\n",
    "plt.figure(figsize=(10, 8))\n",
    "plt.scatter(num_data.iloc[:,0], num_data.iloc[:,1])  # plot all points\n",
    "\n",
    "# Highlight the points of interest in Red color\n",
    "plt.scatter(num_data.iloc[idxs,0], num_data.iloc[idxs,1], c='r')  # plot interesting points in red again\n",
    "plt.show()"
   ]
  },
  {
   "cell_type": "markdown",
   "metadata": {},
   "source": [
    "### Plot the Dendogram\n",
    "\n",
    "A dendrogram is a visualization technique that is in the form of a tree showing the order and distances of merges during the hierarchical clustering."
   ]
  },
  {
   "cell_type": "code",
   "execution_count": 13,
   "metadata": {
    "collapsed": true,
    "jupyter": {
     "outputs_hidden": true
    }
   },
   "outputs": [],
   "source": [
    "y=hca.linkage(num_data,metric=\"euclidean\",method=\"ward\")"
   ]
  },
  {
   "cell_type": "markdown",
   "metadata": {},
   "source": [
    "linkage() performs agglomerative clustering on the condensed distance matrix y. y must be a ${n \\choose 2}$ sized vector where n is the number of original observations paired in the distance matrix. "
   ]
  },
  {
   "cell_type": "markdown",
   "metadata": {},
   "source": [
    "In the below code block, the truncate_mode='lastp' option tells python to show just the last p non-singleton clusters formed in the linkage. All other non-singleton clusters are contracted into leaf nodes. \n",
    "\n",
    "The number p indicates number of clusters to be shown. Its gives a truncated dendrogram, which only shows the last p=25 out of the 149 merges."
   ]
  },
  {
   "cell_type": "code",
   "execution_count": 14,
   "metadata": {},
   "outputs": [
    {
     "data": {
      "text/plain": [
       "<matplotlib.text.Text at 0x7f85cc5ac3c8>"
      ]
     },
     "execution_count": 14,
     "metadata": {},
     "output_type": "execute_result"
    },
    {
     "data": {
      "image/png": "[encoded data removed]",
      "text/plain": [
       "<matplotlib.figure.Figure at 0x7f85cc4db160>"
      ]
     },
     "metadata": {},
     "output_type": "display_data"
    }
   ],
   "source": [
    "plt=hca.dendrogram(y,truncate_mode=\"lastp\",p=25)\n",
    "xticks(rotation=90)\n",
    "ylabel(\"Distance\")\n",
    "figtext(0.5,0.95,\"Iris flower data set\",ha=\"center\",fontsize=12)\n",
    "figtext(0.5,0.90,\"Dendrogram (center, euclidean, ward)\",ha=\"center\",fontsize=10)"
   ]
  },
  {
   "cell_type": "markdown",
   "metadata": {},
   "source": [
    "**Reference: **\n",
    "\n",
    "- [scipy.cluster.hierarchy.dendrogram(data,....)](https://docs.scipy.org/doc/scipy-0.14.0/reference/generated/scipy.cluster.hierarchy.dendrogram.html#scipy.cluster.hierarchy.dendrogram)\n",
    "\n",
    "dendogram() plots the hierarchical clustering as a dendrogram. The dendrogram illustrates how each cluster is composed by drawing a U-shaped link between a non-singleton cluster and its children. The height of the top of the U-link is the distance between its children clusters. It is also the cophenetic distance between original observations in the two children clusters. It is expected that the distances in data[:,2] be monotonic, otherwise crossings appear in the dendrogram."
   ]
  },
  {
   "cell_type": "markdown",
   "metadata": {},
   "source": [
    "- x axis labels: if nothing is specified then they are the indices of samples in num_data\n",
    "- y axis labels: represent the distances (of the 'ward' method in this case)"
   ]
  },
  {
   "cell_type": "markdown",
   "metadata": {},
   "source": [
    "Interpreting the dendogram:\n",
    "\n",
    "Starting from each label at the bottom, you can see a vertical line up to a horizontal line. The height of that horizontal line tells you about the distance at which this label was merged into another label or cluster. \n",
    "\n",
    "Summarizing:\n",
    "\n",
    "Horizontal lines are cluster merges. Vertical lines tell you which clusters/labels were part of merge forming that new cluster. Heights of the horizontal lines tell you about the distance that needed to be \"bridged\" to form the new cluster. You can also see that from distances > 12 up there's a huge jump of the distance to the final merge at a distance of approx 33. Let's have a look at the distances of the last 4 merges:"
   ]
  },
  {
   "cell_type": "code",
   "execution_count": 15,
   "metadata": {},
   "outputs": [
    {
     "data": {
      "text/plain": [
       "array([  4.84770851,   6.39940682,  12.30039605,  32.447607  ])"
      ]
     },
     "execution_count": 15,
     "metadata": {},
     "output_type": "execute_result"
    }
   ],
   "source": [
    "Z[-4:,2]"
   ]
  },
  {
   "cell_type": "markdown",
   "metadata": {},
   "source": [
    "Such merges in the dendrogram are interesting. They indicate that something has been merged that may be shouldn't be merged. Simply put, maybe the things that were merged really don't belong to the same cluster suggesting that maybe there are just 2 different clusters.\n",
    "\n",
    "The colors of the clusters come from color_threshold argument of dendrogram(). Because it is not specified here, it automatically picked a distance cut-off value of 70 % of the final merge and then colored the clusters."
   ]
  },
  {
   "cell_type": "markdown",
   "metadata": {},
   "source": [
    "### Selecting a Distance Cut-Off or Determining the Number of Clusters\n",
    "\n",
    "As explained above already, a huge jump in distance is typically what we're interested in when arguing for a certain number of clusters. When you have to pick the number of clusters manually, that is probably the best method as it allows us to gain some insights into the data and to perform some sanity checks on the edge cases. In this case the distance cut off could be 10, as the jump is pretty obvious. \n",
    "\n",
    "When automatically picking the number of clusters there are a couple of common methods that can be used. \n",
    "\n",
    "#### Inconsistency Method\n",
    "\"inconsistency\" method is one of the defaults for the fcluster() function in scipy.\n",
    "\n",
    "The question driving the inconsistency method is \"what makes a distance jump a jump?\". It answers this by comparing each cluster merge's height `h` to the average `avg` and normalizing it by the standard deviation. Link statistics are computed over link heights for links `d` levels below the cluster `i`.\n",
    "\n",
    "$$inconsistency=\\frac{h−avg}{std}$$\n",
    "The following shows a matrix of the avg, std, count, inconsistency for each of the last 10 merges of our hierarchical clustering with depth = 5"
   ]
  },
  {
   "cell_type": "code",
   "execution_count": 16,
   "metadata": {},
   "outputs": [
    {
     "data": {
      "text/plain": [
       "array([[  0.59108975,   0.45392614,  17.        ,   2.91895623],\n",
       "       [  0.53055241,   0.41958884,  21.        ,   3.30847806],\n",
       "       [  0.55682942,   0.48059093,  20.        ,   3.11450149],\n",
       "       [  0.8374815 ,   0.69532383,  15.        ,   2.84249906],\n",
       "       [  0.79911507,   0.66538924,  24.        ,   3.11141575],\n",
       "       [  0.76914495,   0.74381406,  26.        ,   4.11246284],\n",
       "       [  0.89598496,   0.93038191,  26.        ,   4.24742088],\n",
       "       [  1.28888887,   1.28477111,  25.        ,   3.97776532],\n",
       "       [  1.85911499,   2.3737124 ,  30.        ,   4.39871361],\n",
       "       [  3.06437262,   6.029791  ,  30.        ,   4.87301042]])"
      ]
     },
     "execution_count": 16,
     "metadata": {},
     "output_type": "execute_result"
    }
   ],
   "source": [
    "from scipy.cluster.hierarchy import inconsistent\n",
    "\n",
    "depth = 5\n",
    "incons = inconsistent(Z, depth)\n",
    "incons[-10:]"
   ]
  },
  {
   "cell_type": "markdown",
   "metadata": {},
   "source": [
    "There is no paricular golden rule to pick the depth limit in the inconsistencies. See what happens if depth is set to 3 instead."
   ]
  },
  {
   "cell_type": "code",
   "execution_count": 17,
   "metadata": {},
   "outputs": [
    {
     "data": {
      "text/plain": [
       "array([[  1.04415572,   0.47077171,   6.        ,   1.85211759],\n",
       "       [  0.93605888,   0.50753029,   7.        ,   1.93622727],\n",
       "       [  1.00119478,   0.59481487,   7.        ,   1.76935019],\n",
       "       [  1.3215276 ,   0.89717505,   6.        ,   1.66345602],\n",
       "       [  1.54618861,   0.78070631,   7.        ,   1.6949127 ],\n",
       "       [  1.60084704,   1.04636159,   7.        ,   2.12852383],\n",
       "       [  1.87864673,   1.37553667,   7.        ,   2.15847519],\n",
       "       [  2.63219605,   1.82414912,   7.        ,   2.06518794],\n",
       "       [  4.69102252,   3.74990448,   7.        ,   2.02921797],\n",
       "       [  9.01617053,  10.95274921,   7.        ,   2.13932009]])"
      ]
     },
     "execution_count": 17,
     "metadata": {},
     "output_type": "execute_result"
    }
   ],
   "source": [
    "depth = 3\n",
    "incons = inconsistent(Z, depth)\n",
    "incons[-10:]"
   ]
  },
  {
   "cell_type": "markdown",
   "metadata": {},
   "source": [
    "The inconsistency values heavily depend on the depth of the tree you calculate the averages over. \n",
    "\n",
    "#### Elbow Method\n",
    "\n",
    "The elbow method tries to find the clustering step where the acceleration of distance growth is the biggest."
   ]
  },
  {
   "cell_type": "code",
   "execution_count": 18,
   "metadata": {},
   "outputs": [
    {
     "data": {
      "image/png": "[encoded data removed]",
      "text/plain": [
       "<matplotlib.figure.Figure at 0x7f85ce5f5400>"
      ]
     },
     "metadata": {},
     "output_type": "display_data"
    },
    {
     "name": "stdout",
     "output_type": "stream",
     "text": [
      "clusters: 2\n"
     ]
    }
   ],
   "source": [
    "import matplotlib.pyplot as plt\n",
    "\n",
    "# Take last 10 merge distances into variable last\n",
    "last = Z[-10:, 2]\n",
    "\n",
    "# reverse the elements in variable last and assign them to last_rev. The index '-1' starts the indexing from the last.\n",
    "last_rev = last[::-1]\n",
    "\n",
    "# create an array with indexes 1,2,3...10\n",
    "idxs = np.arange(1, len(last) + 1)\n",
    "\n",
    "# Plot the merge distances. last_rev has merge with highest value at index 0. \n",
    "plt.plot(idxs, last_rev)\n",
    "\n",
    "# Calculate the 2nd order discrete difference along the given axis.\n",
    "acceleration = np.diff(last, 2)  # 2nd derivative of the distances\n",
    "\n",
    "# reverse the elements in variable acceleration and assign them to acceleration_rev. \n",
    "acceleration_rev = acceleration[::-1]\n",
    "\n",
    "# Plot the 2nd order distances. \n",
    "plt.plot(idxs[:-2] + 1, acceleration_rev)\n",
    "plt.show()\n",
    "\n",
    "# Find the index of largest value in acceleration_rev to decide the number of clusters. \n",
    "k = acceleration_rev.argmax() + 2  # if idx 0 is the max of this we want 2 clusters\n",
    "print(\"clusters:\", k)"
   ]
  },
  {
   "cell_type": "code",
   "execution_count": 19,
   "metadata": {},
   "outputs": [
    {
     "name": "stdout",
     "output_type": "stream",
     "text": [
      "[  1.91608028   1.91875287   2.05363058   2.81393883   2.86941764\n",
      "   3.82805262   4.84770851   6.39940682  12.30039605  32.447607  ]\n",
      "[  0.13220512   0.62543055  -0.70482945   0.90315617   0.06102091\n",
      "   0.53204242   4.34929092  14.24622171]\n",
      "[ 1  2  3  4  5  6  7  8  9 10]\n",
      "[1 2 3 4 5 6 7 8]\n",
      "[ 14.24622171   4.34929092   0.53204242   0.06102091   0.90315617\n",
      "  -0.70482945   0.62543055   0.13220512]\n"
     ]
    }
   ],
   "source": [
    "print(last)\n",
    "print(acceleration)\n",
    "print(idxs)\n",
    "print(idxs[:-2])\n",
    "print(acceleration_rev)"
   ]
  },
  {
   "cell_type": "markdown",
   "metadata": {},
   "source": [
    "### Retrieve the Clusters\n",
    "\n",
    "The `fcluster()` function is used for retrieving the clusters, for different ways of determining k."
   ]
  },
  {
   "cell_type": "markdown",
   "metadata": {},
   "source": [
    "#### Knowing max_d:\n",
    "\n",
    "Once the max distance is determined with help of a dendrogram, then the cluster id for each of the samples can be extracted using the below code."
   ]
  },
  {
   "cell_type": "code",
   "execution_count": 20,
   "metadata": {},
   "outputs": [
    {
     "data": {
      "text/plain": [
       "array([1, 1, 1, 1, 1, 1, 1, 1, 1, 1, 1, 1, 1, 1, 1, 1, 1, 1, 1, 1, 1, 1, 1,\n",
       "       1, 1, 1, 1, 1, 1, 1, 1, 1, 1, 1, 1, 1, 1, 1, 1, 1, 1, 1, 1, 1, 1, 1,\n",
       "       1, 1, 1, 1, 1, 1, 1, 1, 1, 1, 1, 1, 1, 1, 1, 1, 1, 1, 1, 1, 1, 1, 1,\n",
       "       1, 1, 1, 1, 1, 1, 1, 1, 1, 1, 1, 1, 1, 1, 1, 1, 1, 1, 1, 1, 1, 1, 1,\n",
       "       1, 1, 1, 1, 1, 1, 1, 1, 1, 1, 1, 1, 1, 1, 1, 1, 1, 1, 1, 1, 1, 1, 1,\n",
       "       1, 1, 1, 1, 1, 1, 1, 1, 1, 1, 1, 1, 1, 1, 1, 1, 1, 1, 1, 1, 1, 1, 1,\n",
       "       1, 1, 1, 1, 1, 1, 1, 1, 1, 1, 1, 1], dtype=int32)"
      ]
     },
     "execution_count": 20,
     "metadata": {},
     "output_type": "execute_result"
    }
   ],
   "source": [
    "from scipy.cluster.hierarchy import fcluster\n",
    "max_d = 50\n",
    "clusters = fcluster(Z, max_d, criterion='distance')\n",
    "clusters"
   ]
  },
  {
   "cell_type": "markdown",
   "metadata": {},
   "source": [
    "#### Knowing k:"
   ]
  },
  {
   "cell_type": "code",
   "execution_count": 21,
   "metadata": {},
   "outputs": [
    {
     "data": {
      "text/plain": [
       "array([1, 1, 1, 1, 1, 1, 1, 1, 1, 1, 1, 1, 1, 1, 1, 1, 1, 1, 1, 1, 1, 1, 1,\n",
       "       1, 1, 1, 1, 1, 1, 1, 1, 1, 1, 1, 1, 1, 1, 1, 1, 1, 1, 1, 1, 1, 1, 1,\n",
       "       1, 1, 1, 1, 2, 2, 2, 2, 2, 2, 2, 2, 2, 2, 2, 2, 2, 2, 2, 2, 2, 2, 2,\n",
       "       2, 2, 2, 2, 2, 2, 2, 2, 2, 2, 2, 2, 2, 2, 2, 2, 2, 2, 2, 2, 2, 2, 2,\n",
       "       2, 2, 2, 2, 2, 2, 2, 2, 2, 2, 2, 2, 2, 2, 2, 2, 2, 2, 2, 2, 2, 2, 2,\n",
       "       2, 2, 2, 2, 2, 2, 2, 2, 2, 2, 2, 2, 2, 2, 2, 2, 2, 2, 2, 2, 2, 2, 2,\n",
       "       2, 2, 2, 2, 2, 2, 2, 2, 2, 2, 2, 2], dtype=int32)"
      ]
     },
     "execution_count": 21,
     "metadata": {},
     "output_type": "execute_result"
    }
   ],
   "source": [
    "k=2\n",
    "fcluster(Z, k, criterion='maxclust')"
   ]
  },
  {
   "cell_type": "markdown",
   "metadata": {},
   "source": [
    "#### Using the Inconsistency Method (default):\n",
    "\n",
    "Inconsistency Method is the default method for the `fcluster()` function. "
   ]
  },
  {
   "cell_type": "code",
   "execution_count": 22,
   "metadata": {},
   "outputs": [
    {
     "data": {
      "text/plain": [
       "array([1, 1, 1, 1, 1, 1, 1, 1, 1, 1, 1, 1, 1, 1, 1, 1, 1, 1, 1, 1, 1, 1, 1,\n",
       "       1, 1, 1, 1, 1, 1, 1, 1, 1, 1, 1, 1, 1, 1, 1, 1, 1, 1, 1, 1, 1, 1, 1,\n",
       "       1, 1, 1, 1, 2, 2, 2, 2, 2, 2, 2, 2, 2, 2, 2, 2, 2, 2, 2, 2, 2, 2, 2,\n",
       "       2, 2, 2, 2, 2, 2, 2, 2, 2, 2, 2, 2, 2, 2, 2, 2, 2, 2, 2, 2, 2, 2, 2,\n",
       "       2, 2, 2, 2, 2, 2, 2, 2, 2, 2, 2, 2, 2, 2, 2, 2, 2, 2, 2, 2, 2, 2, 2,\n",
       "       2, 2, 2, 2, 2, 2, 2, 2, 2, 2, 2, 2, 2, 2, 2, 2, 2, 2, 2, 2, 2, 2, 2,\n",
       "       2, 2, 2, 2, 2, 2, 2, 2, 2, 2, 2, 2], dtype=int32)"
      ]
     },
     "execution_count": 22,
     "metadata": {},
     "output_type": "execute_result"
    }
   ],
   "source": [
    "from scipy.cluster.hierarchy import fcluster\n",
    "clusters=fcluster(Z, 8, depth=10)\n",
    "clusters"
   ]
  },
  {
   "cell_type": "markdown",
   "metadata": {},
   "source": [
    "#### Visualizing Your Clusters"
   ]
  },
  {
   "cell_type": "code",
   "execution_count": 23,
   "metadata": {},
   "outputs": [
    {
     "data": {
      "image/png": "[encoded data removed]",
      "text/plain": [
       "<matplotlib.figure.Figure at 0x7f85ce5f11d0>"
      ]
     },
     "metadata": {},
     "output_type": "display_data"
    }
   ],
   "source": [
    "plt.figure(figsize=(10, 8))\n",
    "plt.scatter(num_data.iloc[:,0], num_data.iloc[:,1], c=clusters, cmap='prism')  # plot points with cluster dependent colors\n",
    "plt.show()"
   ]
  }
 ],
 "metadata": {
  "kernelspec": {
   "display_name": "Python 3 (ipykernel)",
   "language": "python",
   "name": "python3"
  },
  "language_info": {
   "codemirror_mode": {
    "name": "ipython",
    "version": 3
   },
   "file_extension": ".py",
   "mimetype": "text/x-python",
   "name": "python",
   "nbconvert_exporter": "python",
   "pygments_lexer": "ipython3",
   "version": "3.12.11"
  }
 },
 "nbformat": 4,
 "nbformat_minor": 4
}
