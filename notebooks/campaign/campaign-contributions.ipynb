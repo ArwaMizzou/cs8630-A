{
 "cells": [
  {
   "cell_type": "markdown",
   "metadata": {
    "collapsed": true,
    "jupyter": {
     "outputs_hidden": true
    }
   },
   "source": [
    "# Analyzing Campaign Contributions from 2016\n",
    "\n",
    "In this lab, we will work with a cleaned Donald Trump contributions CSV file. We will ask questions whose results we might use in a story, graphic or interactive.\n",
    "\n",
    "The data file we will be working with is found here:\n",
    "\n",
    "./trump_contribs.csv\n",
    "\n",
    "Information about the data fields can be found at the Federal Elections Commission Contributions by individuals file description.\n",
    "\n",
    "Usually it is good to ask big picture questions that we can as a benchmark. The table has only one numeric field, amount, so we will be limited somewhat.\n",
    "\n",
    "First let’s answer these questions:\n",
    "\n",
    "* How many total records of contributions?\n",
    "* How much was given in total?\n",
    "* How much was given on average?\n",
    "\n",
    "Recall that our file has contributions from two committees:\n",
    "\n",
    "**NOTE: You do not need to download these. They contain current and historical data. We are only looking at 2016.**\n",
    "\n",
    "* The first is [Donald J. Trump for President, Inc.](http://docquery.fec.gov/cgi-bin/fecimg/?C00580100), his campaign committee. (Filer_id: C00580100) \n",
    "* The second is [Great America PAC](http://docquery.fec.gov/cgi-bin/fecimg/?C00608489), a Super PAC that supported Trump in the 2016 election. (Filer_id: C00608489)\n",
    "\n",
    "Run the same analysis for each, so we can see how they compare.\n",
    "\n",
    "Trump’s campaign has said he’s won widespread support from donors who are willing to give him small contributions. According to [The Washington Post](https://www.washingtonpost.com/politics/trump-supporters-eager-to-drain-the-swamp-help-fill-gop-coffers/2017/10/05/ec214f22-a53d-11e7-ade1-76d061d56efa_story.html?utm_term=.2fb48b4a5b50) in 2017, he beat Bernie Sanders and Hillary Clinton in the number of people contributing $200 or less.  Let’s check that out now with the data.\n",
    "\n",
    "Generate the counts overall and separately for the two committees.\n",
    "\n",
    "It might be interesting to see how the contributions flow in from month to month.\n",
    "\n",
    "Finally, you are going to look at how Trump did with contributions in states he won, but had voted for Barack Obama in 2012:\n",
    "\n",
    "* Florida\n",
    "* Iowa\n",
    "* Michigan\n",
    "* Ohio\n",
    "* Pennsylvania\n",
    "\n",
    "How did he do in those states compared to the rest of the United States, overall and month by month?\n",
    "\n",
    "Trump is often on the road at campaign rallies. Can you find any dates and locations that have a higher than usual number of contributions that came in for him? That could hint at a fundraising event.\n",
    "\n",
    "Finally, let's look at contributions of $250 and under both nationally in the flipped states to test the statement that Trump had a great deal of support from small donors.\n"
   ]
  },
  {
   "cell_type": "code",
   "execution_count": 1,
   "metadata": {},
   "outputs": [],
   "source": [
    "import pandas as pd\n",
    "import numpy as np"
   ]
  },
  {
   "cell_type": "markdown",
   "metadata": {},
   "source": [
    "#### Load the file from the csv\n",
    "Since we are only using the amount, the filer_id, the state and the transaction date we can selectively load only those columns along with the nicarid which is unique for each row. Since we are only looking at those columns, we are working with the original file rather than a cleaned-up version from Exercise 05.01 (to save on data storage).\n",
    "\n",
    "This is a judgement call; if you are still exploring and will want to look at other columns you can include those also. But paring down the columns to what we need saves on memory usage and increases performance."
   ]
  },
  {
   "cell_type": "code",
   "execution_count": 2,
   "metadata": {},
   "outputs": [
    {
     "name": "stdout",
     "output_type": "stream",
     "text": [
      "Shape:  (139590, 4)\n",
      "    filer_id state trans_date  amount\n",
      "0  C00580100    TN   12312016   100.0\n",
      "1  C00580100    CA   12312016   250.0\n",
      "2  C00580100    TX   12312016   100.0\n",
      "3  C00580100    FL   12312016   250.0\n",
      "4  C00580100    TX   12312016   100.0\n",
      "(139590, 4)\n"
     ]
    }
   ],
   "source": [
    "#Load the file\n",
    "\n",
    "# We can specify the datatypes for the column\n",
    "dtypes = {'filer_id': str,\n",
    "'state':str,\n",
    "'amount':np.float64,\n",
    "'trans_date':str}\n",
    "#,'nicarid':str}\n",
    "\n",
    "# And We can specify the the columns to load using the usecols parameter\n",
    "cols = ['filer_id',\n",
    "'state',\n",
    "'amount',\n",
    "'trans_date']\n",
    "#        ,'nicarid']\n",
    "\n",
    "# Open the data file\n",
    "path = './trump_contribs.csv'\n",
    "trump_contribs_df = pd.read_csv(path, usecols = cols, dtype=dtypes )\n",
    "\n",
    "print(\"Shape: \", trump_contribs_df.shape)\n",
    "\n",
    "# have to use print since this isn't the last statement\n",
    "print(trump_contribs_df.head())\n",
    "\n",
    "print(trump_contribs_df.shape)\n"
   ]
  },
  {
   "cell_type": "markdown",
   "metadata": {},
   "source": [
    "#### A little carpentry\n",
    "We need some columns we didn't address in our clean-up in Module 5.\n",
    "- Extract two new columns for year (yyyy) and  month (yyyymm) from trans_date. \n",
    "- Convert trans_date to yyyymmdd format in a column named date. \n",
    "- Drop the original trans_date when this is complete.\n",
    "- Convert the new columns to integers for performance reasons."
   ]
  },
  {
   "cell_type": "code",
   "execution_count": 3,
   "metadata": {},
   "outputs": [
    {
     "data": {
      "text/html": [
       "<div>\n",
       "<style scoped>\n",
       "    .dataframe tbody tr th:only-of-type {\n",
       "        vertical-align: middle;\n",
       "    }\n",
       "\n",
       "    .dataframe tbody tr th {\n",
       "        vertical-align: top;\n",
       "    }\n",
       "\n",
       "    .dataframe thead th {\n",
       "        text-align: right;\n",
       "    }\n",
       "</style>\n",
       "<table border=\"1\" class=\"dataframe\">\n",
       "  <thead>\n",
       "    <tr style=\"text-align: right;\">\n",
       "      <th></th>\n",
       "      <th>filer_id</th>\n",
       "      <th>state</th>\n",
       "      <th>amount</th>\n",
       "      <th>year</th>\n",
       "      <th>month</th>\n",
       "      <th>date</th>\n",
       "    </tr>\n",
       "  </thead>\n",
       "  <tbody>\n",
       "    <tr>\n",
       "      <th>0</th>\n",
       "      <td>C00580100</td>\n",
       "      <td>TN</td>\n",
       "      <td>100.0</td>\n",
       "      <td>2016</td>\n",
       "      <td>201612</td>\n",
       "      <td>20161231</td>\n",
       "    </tr>\n",
       "    <tr>\n",
       "      <th>1</th>\n",
       "      <td>C00580100</td>\n",
       "      <td>CA</td>\n",
       "      <td>250.0</td>\n",
       "      <td>2016</td>\n",
       "      <td>201612</td>\n",
       "      <td>20161231</td>\n",
       "    </tr>\n",
       "    <tr>\n",
       "      <th>2</th>\n",
       "      <td>C00580100</td>\n",
       "      <td>TX</td>\n",
       "      <td>100.0</td>\n",
       "      <td>2016</td>\n",
       "      <td>201612</td>\n",
       "      <td>20161231</td>\n",
       "    </tr>\n",
       "    <tr>\n",
       "      <th>3</th>\n",
       "      <td>C00580100</td>\n",
       "      <td>FL</td>\n",
       "      <td>250.0</td>\n",
       "      <td>2016</td>\n",
       "      <td>201612</td>\n",
       "      <td>20161231</td>\n",
       "    </tr>\n",
       "    <tr>\n",
       "      <th>4</th>\n",
       "      <td>C00580100</td>\n",
       "      <td>TX</td>\n",
       "      <td>100.0</td>\n",
       "      <td>2016</td>\n",
       "      <td>201612</td>\n",
       "      <td>20161231</td>\n",
       "    </tr>\n",
       "  </tbody>\n",
       "</table>\n",
       "</div>"
      ],
      "text/plain": [
       "    filer_id state  amount  year   month      date\n",
       "0  C00580100    TN   100.0  2016  201612  20161231\n",
       "1  C00580100    CA   250.0  2016  201612  20161231\n",
       "2  C00580100    TX   100.0  2016  201612  20161231\n",
       "3  C00580100    FL   250.0  2016  201612  20161231\n",
       "4  C00580100    TX   100.0  2016  201612  20161231"
      ]
     },
     "execution_count": 3,
     "metadata": {},
     "output_type": "execute_result"
    }
   ],
   "source": [
    "trump_contribs_df['year'] = trump_contribs_df['trans_date'].str.slice(4,8)\n",
    "trump_contribs_df['month'] = trump_contribs_df['trans_date'].str.slice(4,8) + trump_contribs_df['trans_date'].str.slice(0,2)\n",
    "trump_contribs_df['date'] = trump_contribs_df['trans_date'].str.slice(4,8) + trump_contribs_df['trans_date'].str.slice(0,4)\n",
    "trump_contribs_df = trump_contribs_df.drop('trans_date', axis = 1)\n",
    "trump_contribs_df.head()"
   ]
  },
  {
   "cell_type": "code",
   "execution_count": 4,
   "metadata": {},
   "outputs": [
    {
     "data": {
      "text/plain": [
       "filer_id     object\n",
       "state        object\n",
       "amount      float64\n",
       "year          int64\n",
       "month         int64\n",
       "date          int64\n",
       "dtype: object"
      ]
     },
     "execution_count": 4,
     "metadata": {},
     "output_type": "execute_result"
    }
   ],
   "source": [
    "trump_contribs_df['year'] = trump_contribs_df['year'].astype(int)\n",
    "trump_contribs_df['month'] = trump_contribs_df['month'].astype(int)\n",
    "trump_contribs_df['date'] = trump_contribs_df['date'].astype(int)\n",
    "trump_contribs_df.dtypes"
   ]
  },
  {
   "cell_type": "markdown",
   "metadata": {},
   "source": [
    "#### Analysis\n",
    "If you recall from Module 4, one consideration is that there are negative contributions. Those negative amounts you see for contributions are refunds. Typically this happens with individual contributions to candidate committees because [those limits are so low](https://www.fec.gov/help-candidates-and-committees/candidate-taking-receipts/contribution-limits/).\n",
    "\n",
    "Your TA has not determined a clean way to match up a contribution and its corresponding refund using this dataset. Therefore, we will subtract the count of the rows for negative amounts from the total records and just add the negative amounts in to the totals.\n",
    "\n",
    "Let's add a column to use for the row count and make it 1 for a positive amount and -1 for a negative amount. There are a number of ways to do this conditional assignment. We'll use np.where() and make sure to cast the 1 and -1 as integers. Here are some references the discuss different ways to do this: \n",
    "\n",
    "https://datatofish.com/if-condition-in-pandas-dataframe/\n",
    "\n",
    "https://stackoverflow.com/questions/19913659/pandas-conditional-creation-of-a-series-dataframe-column\n"
   ]
  },
  {
   "cell_type": "code",
   "execution_count": 5,
   "metadata": {},
   "outputs": [
    {
     "name": "stdout",
     "output_type": "stream",
     "text": [
      "    filer_id state  amount  year   month      date  row_ind\n",
      "0  C00580100    TN   100.0  2016  201612  20161231        1\n",
      "1  C00580100    CA   250.0  2016  201612  20161231        1\n",
      "2  C00580100    TX   100.0  2016  201612  20161231        1\n",
      "3  C00580100    FL   250.0  2016  201612  20161231        1\n",
      "4  C00580100    TX   100.0  2016  201612  20161231        1\n",
      "     filer_id state  amount  year   month      date  row_ind\n",
      "7   C00580100    CA  -100.0  2016  201612  20161231       -1\n",
      "11  C00580100    CA  -250.0  2016  201612  20161231       -1\n",
      "12  C00580100    NC  -250.0  2016  201612  20161231       -1\n",
      "27  C00580100    VA  -250.0  2016  201612  20161230       -1\n",
      "44  C00580100    FL  -100.0  2016  201612  20161230       -1\n"
     ]
    }
   ],
   "source": [
    "trump_contribs_df['row_ind'] = np.where(trump_contribs_df['amount']>0, np.int64(1), np.int64(-1))\n",
    "\n",
    "# check our work\n",
    "print(trump_contribs_df[trump_contribs_df['row_ind'] == 1].head())\n",
    "print(trump_contribs_df[trump_contribs_df['row_ind'] == -1].head())"
   ]
  },
  {
   "cell_type": "markdown",
   "metadata": {
    "collapsed": true,
    "jupyter": {
     "outputs_hidden": true
    }
   },
   "source": [
    "#### Totals\n",
    "\n",
    "We can obtain the total contribution records, the sum of the amounts, and the average of the amounts with separate lines of code. An advantage of this approach is we can format individual amounts as money and use comma separators easily."
   ]
  },
  {
   "cell_type": "code",
   "execution_count": 6,
   "metadata": {},
   "outputs": [],
   "source": [
    "total_contribs = trump_contribs_df['row_ind'].sum()\n",
    "total_amount = trump_contribs_df['amount'].sum()\n",
    "average_amount = trump_contribs_df['amount'].mean()"
   ]
  },
  {
   "cell_type": "code",
   "execution_count": 7,
   "metadata": {},
   "outputs": [
    {
     "name": "stdout",
     "output_type": "stream",
     "text": [
      "Total contributions:  137,702\n",
      "Total amount contributed:  $65,329,708.00\n",
      "Average contribution:  $468.01\n"
     ]
    }
   ],
   "source": [
    "print('Total contributions: ',\"{:,}\".format(total_contribs ) )\n",
    "print('Total amount contributed: ', \"${:,.2f}\".format(total_amount) )\n",
    "print('Average contribution: ', \"${:,.2f}\".format(average_amount) )"
   ]
  },
  {
   "cell_type": "markdown",
   "metadata": {
    "collapsed": true,
    "jupyter": {
     "outputs_hidden": true
    }
   },
   "source": [
    "We can also get all these amounts at the same time, but it is a little awkward if we are not grouping by anything. The result will be a Series with each data summary item on a separate row, rather than as columns. As a series, every item must be the same datatype, which will be a float. \n",
    "\n",
    "First we will create a second amount column, amount2, that is just a copy of amount so we can sum one column and get the average on the other one.\n",
    "- We aggregate for each column using the appropriate function. Both the column name and the function name need to be in quotes.\n",
    "- Then we can rename the indexes for the rows in the series for more meaningful names.\n",
    "\n",
    "We can enclose the full command in parentheses for easy reading. Without the parentheses you will get a syntax error unless you write it as one long command."
   ]
  },
  {
   "cell_type": "code",
   "execution_count": 8,
   "metadata": {},
   "outputs": [
    {
     "name": "stdout",
     "output_type": "stream",
     "text": [
      "Total Records      137702.00\n",
      "Total Amount     65329708.00\n",
      "Average Amount        468.01\n",
      "dtype: float64\n"
     ]
    }
   ],
   "source": [
    "pd.options.display.float_format = '{:.2f}'.format\n",
    "\n",
    "trump_contribs_df['amount2'] = trump_contribs_df['amount']\n",
    "nat =(trump_contribs_df\n",
    "    .agg({'row_ind':'sum', 'amount': 'sum', 'amount2': 'mean'})\n",
    "    .rename(index={'row_ind':'Total Records', 'amount':'Total Amount', 'amount2': 'Average Amount'})\n",
    ")\n",
    "print(nat)"
   ]
  },
  {
   "cell_type": "markdown",
   "metadata": {},
   "source": [
    "We can do something similar by grouping by month. This time, since we are using groupby, our result will be a dataframe.\n",
    "Notice the column we group by becomes the index and the column name is the name of the index, not a column name. \n",
    "\n",
    "Since we can format the float columns using pd.options.display.float_format, we can use a dollar sign and commas as well as specifying two decimal places."
   ]
  },
  {
   "cell_type": "code",
   "execution_count": 9,
   "metadata": {},
   "outputs": [
    {
     "name": "stdout",
     "output_type": "stream",
     "text": [
      "        Total Records   Total Amount  Average Amount\n",
      "month                                               \n",
      "1560                1      $2,700.00       $2,700.00\n",
      "1561               28     $23,250.00         $775.00\n",
      "1562               30     $23,924.00         $703.65\n",
      "1563                8      $7,250.00         $906.25\n",
      "1570               85     $57,518.00         $676.68\n",
      "1571               93     $62,194.00         $654.67\n",
      "1572              131     $73,379.00         $551.72\n",
      "1573              137     $66,251.00         $483.58\n",
      "1580              476    $254,919.00         $533.30\n",
      "1581              326    $130,718.00         $398.53\n",
      "1582              305    $233,388.00         $765.21\n",
      "1583               33      $7,368.00         $223.27\n",
      "1590              158     $75,918.00         $474.49\n",
      "1591              259     $87,381.00         $332.25\n",
      "1592              190     $84,166.00         $438.36\n",
      "1593               17     $90,373.00       $5,316.06\n",
      "1610              230     $80,941.00         $351.92\n",
      "1611              243     $57,313.00         $233.93\n",
      "1612              415    $115,186.00         $272.31\n",
      "1613               52     $14,978.00         $288.04\n",
      "1620              386    $125,680.00         $323.92\n",
      "1621              538    $135,788.00         $250.53\n",
      "1622              895    $226,350.00         $250.66\n",
      "1630              843    $276,056.00         $323.63\n",
      "1631              900    $261,997.00         $287.91\n",
      "1632              638    $147,728.00         $230.11\n",
      "1633              108     $36,066.00         $333.94\n",
      "1640              479    $123,376.00         $256.50\n",
      "1641              548    $120,313.00         $216.39\n",
      "1642              965    $227,130.00         $230.12\n",
      "1643               45      $6,421.00         $142.69\n",
      "1650             1259    $465,624.00         $361.23\n",
      "1651              916    $342,626.00         $365.27\n",
      "1652              919    $317,516.00         $338.14\n",
      "1653              148     $53,413.00         $346.84\n",
      "1660             1043    $410,535.00         $386.93\n",
      "1661             2332    $653,272.00         $277.04\n",
      "1662            18082  $7,778,398.00         $424.72\n",
      "1663             3810  $1,041,186.00         $271.14\n",
      "1670             4593  $1,425,510.00         $303.36\n",
      "1671             5960  $1,498,447.00         $248.01\n",
      "1672            15639  $6,408,108.00         $406.68\n",
      "1673             2322    $561,681.00         $241.48\n",
      "1680             6300  $2,065,482.00         $325.17\n",
      "1681             3919  $1,550,346.00         $392.39\n",
      "1682             3533  $1,630,798.00         $454.89\n",
      "1683             2593  $3,095,803.00       $1,182.96\n",
      "1690             2231  $1,181,070.00         $527.03\n",
      "1691             3577  $1,700,843.00         $474.70\n",
      "1692             6522  $4,788,914.00         $732.92\n",
      "1693             1093    $451,992.00         $413.53\n",
      "201510            615    $224,454.00         $349.07\n",
      "201511            594    $150,825.00         $242.48\n",
      "201512           1040    $284,760.00         $272.24\n",
      "201610          33877 $20,525,285.00         $603.84\n",
      "201611           3907  $2,550,992.00         $648.28\n",
      "201612           1316    $935,808.00         $464.19\n",
      "Index([  1560,   1561,   1562,   1563,   1570,   1571,   1572,   1573,   1580,\n",
      "         1581,   1582,   1583,   1590,   1591,   1592,   1593,   1610,   1611,\n",
      "         1612,   1613,   1620,   1621,   1622,   1630,   1631,   1632,   1633,\n",
      "         1640,   1641,   1642,   1643,   1650,   1651,   1652,   1653,   1660,\n",
      "         1661,   1662,   1663,   1670,   1671,   1672,   1673,   1680,   1681,\n",
      "         1682,   1683,   1690,   1691,   1692,   1693, 201510, 201511, 201512,\n",
      "       201610, 201611, 201612],\n",
      "      dtype='int64', name='month')\n",
      "Index([  1560,   1561,   1562,   1563,   1570,   1571,   1572,   1573,   1580,\n",
      "         1581,   1582,   1583,   1590,   1591,   1592,   1593,   1610,   1611,\n",
      "         1612,   1613,   1620,   1621,   1622,   1630,   1631,   1632,   1633,\n",
      "         1640,   1641,   1642,   1643,   1650,   1651,   1652,   1653,   1660,\n",
      "         1661,   1662,   1663,   1670,   1671,   1672,   1673,   1680,   1681,\n",
      "         1682,   1683,   1690,   1691,   1692,   1693, 201510, 201511, 201512,\n",
      "       201610, 201611, 201612],\n",
      "      dtype='int64', name='Month')\n"
     ]
    }
   ],
   "source": [
    "pd.options.display.float_format = '${:,.2f}'.format\n",
    "\n",
    "nat_mon =(trump_contribs_df.groupby([ 'month'])\n",
    "    .agg({'row_ind':'sum', 'amount': 'sum', 'amount2': 'mean'})\n",
    "    .rename(columns={'row_ind':'Total Records', 'amount':'Total Amount', 'amount2': 'Average Amount'})\n",
    ")\n",
    "print(nat_mon)\n",
    "print(nat_mon.index)\n",
    "nat_mon.index.name = 'Month'\n",
    "print(nat_mon.index)"
   ]
  },
  {
   "cell_type": "markdown",
   "metadata": {},
   "source": [
    "If we want the month to remain as a column, we can reset the index which will assign an integer to each row."
   ]
  },
  {
   "cell_type": "code",
   "execution_count": 10,
   "metadata": {},
   "outputs": [
    {
     "name": "stdout",
     "output_type": "stream",
     "text": [
      "     Month  Total Records   Total Amount  Average Amount\n",
      "0     1560              1      $2,700.00       $2,700.00\n",
      "1     1561             28     $23,250.00         $775.00\n",
      "2     1562             30     $23,924.00         $703.65\n",
      "3     1563              8      $7,250.00         $906.25\n",
      "4     1570             85     $57,518.00         $676.68\n",
      "5     1571             93     $62,194.00         $654.67\n",
      "6     1572            131     $73,379.00         $551.72\n",
      "7     1573            137     $66,251.00         $483.58\n",
      "8     1580            476    $254,919.00         $533.30\n",
      "9     1581            326    $130,718.00         $398.53\n",
      "10    1582            305    $233,388.00         $765.21\n",
      "11    1583             33      $7,368.00         $223.27\n",
      "12    1590            158     $75,918.00         $474.49\n",
      "13    1591            259     $87,381.00         $332.25\n",
      "14    1592            190     $84,166.00         $438.36\n",
      "15    1593             17     $90,373.00       $5,316.06\n",
      "16    1610            230     $80,941.00         $351.92\n",
      "17    1611            243     $57,313.00         $233.93\n",
      "18    1612            415    $115,186.00         $272.31\n",
      "19    1613             52     $14,978.00         $288.04\n",
      "20    1620            386    $125,680.00         $323.92\n",
      "21    1621            538    $135,788.00         $250.53\n",
      "22    1622            895    $226,350.00         $250.66\n",
      "23    1630            843    $276,056.00         $323.63\n",
      "24    1631            900    $261,997.00         $287.91\n",
      "25    1632            638    $147,728.00         $230.11\n",
      "26    1633            108     $36,066.00         $333.94\n",
      "27    1640            479    $123,376.00         $256.50\n",
      "28    1641            548    $120,313.00         $216.39\n",
      "29    1642            965    $227,130.00         $230.12\n",
      "30    1643             45      $6,421.00         $142.69\n",
      "31    1650           1259    $465,624.00         $361.23\n",
      "32    1651            916    $342,626.00         $365.27\n",
      "33    1652            919    $317,516.00         $338.14\n",
      "34    1653            148     $53,413.00         $346.84\n",
      "35    1660           1043    $410,535.00         $386.93\n",
      "36    1661           2332    $653,272.00         $277.04\n",
      "37    1662          18082  $7,778,398.00         $424.72\n",
      "38    1663           3810  $1,041,186.00         $271.14\n",
      "39    1670           4593  $1,425,510.00         $303.36\n",
      "40    1671           5960  $1,498,447.00         $248.01\n",
      "41    1672          15639  $6,408,108.00         $406.68\n",
      "42    1673           2322    $561,681.00         $241.48\n",
      "43    1680           6300  $2,065,482.00         $325.17\n",
      "44    1681           3919  $1,550,346.00         $392.39\n",
      "45    1682           3533  $1,630,798.00         $454.89\n",
      "46    1683           2593  $3,095,803.00       $1,182.96\n",
      "47    1690           2231  $1,181,070.00         $527.03\n",
      "48    1691           3577  $1,700,843.00         $474.70\n",
      "49    1692           6522  $4,788,914.00         $732.92\n",
      "50    1693           1093    $451,992.00         $413.53\n",
      "51  201510            615    $224,454.00         $349.07\n",
      "52  201511            594    $150,825.00         $242.48\n",
      "53  201512           1040    $284,760.00         $272.24\n",
      "54  201610          33877 $20,525,285.00         $603.84\n",
      "55  201611           3907  $2,550,992.00         $648.28\n",
      "56  201612           1316    $935,808.00         $464.19\n"
     ]
    }
   ],
   "source": [
    "nat_mon =(trump_contribs_df.groupby([ 'month'])\n",
    "    .agg({'row_ind':'sum', 'amount': 'sum', 'amount2': 'mean'})\n",
    "    .reset_index()\n",
    "    .rename(columns={'row_ind':'Total Records', 'amount':'Total Amount', 'amount2': 'Average Amount', 'month':'Month'})\n",
    ")\n",
    "print(nat_mon)\n"
   ]
  },
  {
   "cell_type": "markdown",
   "metadata": {},
   "source": [
    "### <span style=\"background-color:yellow\">Your Turn</span>\n",
    "1. Find the aggregated statistics for each of the two committees.\n",
    "1. Find the aggregated statistics for each of the two committees by month.\n",
    "1. Create a dataframe for just the states of Florida, Iowa, Michigan, Ohio, and Pennsylvania.\n",
    "1. Find the aggregated statistics for the states of Florida, Iowa, Michigan, Ohio, and Pennsylvania.\n",
    "1. Find the aggregated statistics for the states of Florida, Iowa, Michigan, Ohio, and Pennsylvania by month.\n",
    "1. Create a dataframe for national donations `$250` or less. What are the aggregated statistics for those donations?\n",
    "1. What are the aggregated statistics for national donations `$250` or less by month?\n",
    "1. Create a dataframe for donations `$250` or less from the states of Florida, Iowa, Michigan, Ohio, and Pennsylvania and find the aggregated statistics for those donations.\n",
    "1. What are the aggregated statistics for donations `$250` or less for flipped states by month?"
   ]
  },
  {
   "cell_type": "code",
   "execution_count": 11,
   "metadata": {},
   "outputs": [],
   "source": [
    "# Your Code Here\n",
    "# M6L1Q1 \n",
    "# Find the aggregated statistics for each of the two committees.\n",
    "#--------------------------------------\n",
    "\n",
    "\n"
   ]
  },
  {
   "cell_type": "code",
   "execution_count": 12,
   "metadata": {},
   "outputs": [],
   "source": [
    "# Your Code Here\n",
    "# M6L1Q2\n",
    "# Find the aggregated statistics for each of the two committees by month.\n",
    "#--------------------------------------\n",
    "\n",
    "\n"
   ]
  },
  {
   "cell_type": "code",
   "execution_count": 13,
   "metadata": {},
   "outputs": [],
   "source": [
    "# Your Code Here\n",
    "# M6L1Q3\n",
    "# Create a dataframe for just the states of Florida, Iowa, Michigan, Ohio, and Pennsylvania.\n",
    "#--------------------------------------\n",
    "\n"
   ]
  },
  {
   "cell_type": "code",
   "execution_count": 14,
   "metadata": {},
   "outputs": [],
   "source": [
    "# Your Code Here\n",
    "# M6L1Q4\n",
    "# Find the aggregated statistics for the states of Florida, Iowa, Michigan, Ohio, and Pennsylvania.\n",
    "#--------------------------------------\n",
    "\n"
   ]
  },
  {
   "cell_type": "code",
   "execution_count": 15,
   "metadata": {},
   "outputs": [],
   "source": [
    "# Your Code Here\n",
    "# M6L1Q5\n",
    "# Find the aggregated statistics for the states of Florida, Iowa, Michigan, Ohio, and Pennsylvania by month.\n",
    "# Make sure you print all rows\n",
    "#--------------------------------------\n",
    "\n"
   ]
  },
  {
   "cell_type": "code",
   "execution_count": 16,
   "metadata": {},
   "outputs": [],
   "source": [
    "# Your Code Here\n",
    "# M6L1Q6\n",
    "# Create a dataframe for national donations $250 or less. What are the aggregated statistics for those donations?\n",
    "#--------------------------------------\n",
    "\n"
   ]
  },
  {
   "cell_type": "code",
   "execution_count": 17,
   "metadata": {},
   "outputs": [],
   "source": [
    "# Your Code Here\n",
    "# M6L1Q7\n",
    "# What are the aggregated statistics for national donations $250 or less by month?\n",
    "# Make sure you print all rows\n",
    "#--------------------------------------\n"
   ]
  },
  {
   "cell_type": "code",
   "execution_count": 18,
   "metadata": {},
   "outputs": [],
   "source": [
    "# Your Code Here\n",
    "# M6L1Q8\n",
    "# Create a dataframe for donations $250 or less from the states of Florida, Iowa, \n",
    "# Michigan, Ohio, and Pennsylvania and find the aggregated statistics for those donations.\n",
    "#--------------------------------------\n"
   ]
  },
  {
   "cell_type": "code",
   "execution_count": 19,
   "metadata": {},
   "outputs": [],
   "source": [
    "# Your Code Here\n",
    "# M6L1Q9\n",
    "# What are the aggregated statistics for donations $250 or less for flipped states by month?\n",
    "# Make sure you print all rows\n",
    "#--------------------------------------\n"
   ]
  },
  {
   "cell_type": "markdown",
   "metadata": {
    "collapsed": true,
    "jupyter": {
     "outputs_hidden": true
    }
   },
   "source": [
    "#### Record your observations and story ideas here:\n",
    "\n"
   ]
  },
  {
   "cell_type": "markdown",
   "metadata": {},
   "source": []
  }
 ],
 "metadata": {
  "kernelspec": {
   "display_name": "Python 3 (ipykernel)",
   "language": "python",
   "name": "python3"
  },
  "language_info": {
   "codemirror_mode": {
    "name": "ipython",
    "version": 3
   },
   "file_extension": ".py",
   "mimetype": "text/x-python",
   "name": "python",
   "nbconvert_exporter": "python",
   "pygments_lexer": "ipython3",
   "version": "3.12.11"
  }
 },
 "nbformat": 4,
 "nbformat_minor": 4
}
